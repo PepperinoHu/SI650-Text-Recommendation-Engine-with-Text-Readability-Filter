{
 "cells": [
  {
   "cell_type": "code",
   "execution_count": 1,
   "id": "7ae4ba0f",
   "metadata": {},
   "outputs": [],
   "source": [
    "import pandas as pd\n",
    "from matplotlib import pyplot as plt\n",
    "from collections import Counter\n",
    "import numpy as np"
   ]
  },
  {
   "cell_type": "code",
   "execution_count": 10,
   "id": "2a9fc8a5",
   "metadata": {},
   "outputs": [],
   "source": [
    "df = pd.read_csv('test.csv')\n",
    "scored_corpus = pd.read_csv('scored_corpus_by_hand.csv')"
   ]
  },
  {
   "cell_type": "code",
   "execution_count": 27,
   "id": "31aff5a6",
   "metadata": {},
   "outputs": [
    {
     "data": {
      "text/plain": [
       "0       B2\n",
       "1       B2\n",
       "2       B2\n",
       "3       B2\n",
       "4       B2\n",
       "        ..\n",
       "1489    C2\n",
       "1490    C2\n",
       "1491    C2\n",
       "1492    C2\n",
       "1493    C2\n",
       "Name: label, Length: 1494, dtype: object"
      ]
     },
     "execution_count": 27,
     "metadata": {},
     "output_type": "execute_result"
    }
   ],
   "source": [
    "scored_corpus.label.apply(str)"
   ]
  },
  {
   "cell_type": "code",
   "execution_count": 50,
   "id": "b806462f",
   "metadata": {},
   "outputs": [
    {
     "name": "stdout",
     "output_type": "stream",
     "text": [
      "16\n",
      "0.9\n"
     ]
    }
   ],
   "source": [
    "s = 0\n",
    "readability_correspond = 0\n",
    "n = 10\n",
    "for i in df.loc[df['QueryId'] == 'int-1']['DocumentId']:\n",
    "    index = i.split('-')[1]\n",
    "    s += int(scored_corpus.loc[scored_corpus['id'] == int(index)-1]['int-1'])\n",
    "    string = scored_corpus.loc[scored_corpus['id'] == int(index)-1]['label'].astype(\"string\").to_string().split()[1]\n",
    "    if string == 'B1' or string == 'B2':\n",
    "        readability_correspond += 1\n",
    "print(s)\n",
    "print(readability_correspond/n)"
   ]
  },
  {
   "cell_type": "code",
   "execution_count": 49,
   "id": "884e66ae",
   "metadata": {},
   "outputs": [
    {
     "name": "stdout",
     "output_type": "stream",
     "text": [
      "10\n",
      "0.3\n"
     ]
    }
   ],
   "source": [
    "s = 0\n",
    "readability_correspond = 0\n",
    "n = 10\n",
    "for i in df.loc[df['QueryId'] == 'adv-1']['DocumentId']:\n",
    "    index = i.split('-')[1]\n",
    "    s += int(scored_corpus.loc[scored_corpus['id'] == int(index)-1]['int-1'])\n",
    "    string = scored_corpus.loc[scored_corpus['id'] == int(index)-1]['label'].astype(\"string\").to_string().split()[1]\n",
    "    if string == 'C1' or string == 'C2':\n",
    "        readability_correspond += 1\n",
    "print(s)\n",
    "print(readability_correspond/n)"
   ]
  },
  {
   "cell_type": "code",
   "execution_count": 52,
   "id": "f3212a59",
   "metadata": {},
   "outputs": [
    {
     "name": "stdout",
     "output_type": "stream",
     "text": [
      "22\n",
      "0.8\n"
     ]
    }
   ],
   "source": [
    "s = 0\n",
    "readability_correspond = 0\n",
    "n = 10\n",
    "for i in df.loc[df['QueryId'] == 'ele-1']['DocumentId']:\n",
    "    index = i.split('-')[1]\n",
    "    s += int(scored_corpus.loc[scored_corpus['id'] == int(index)-1]['int-1'])\n",
    "    string = scored_corpus.loc[scored_corpus['id'] == int(index)-1]['label'].astype(\"string\").to_string().split()[1]\n",
    "    if string == 'A1' or string == 'A2':\n",
    "        readability_correspond += 1\n",
    "print(s)\n",
    "print(readability_correspond/n)"
   ]
  },
  {
   "cell_type": "code",
   "execution_count": null,
   "id": "9c2c7f02",
   "metadata": {},
   "outputs": [],
   "source": []
  }
 ],
 "metadata": {
  "kernelspec": {
   "display_name": "Python 3",
   "language": "python",
   "name": "python3"
  },
  "language_info": {
   "codemirror_mode": {
    "name": "ipython",
    "version": 3
   },
   "file_extension": ".py",
   "mimetype": "text/x-python",
   "name": "python",
   "nbconvert_exporter": "python",
   "pygments_lexer": "ipython3",
   "version": "3.8.8"
  }
 },
 "nbformat": 4,
 "nbformat_minor": 5
}
