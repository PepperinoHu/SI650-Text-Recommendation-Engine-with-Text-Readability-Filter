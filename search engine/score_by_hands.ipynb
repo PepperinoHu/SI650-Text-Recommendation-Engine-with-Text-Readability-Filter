{
 "cells": [
  {
   "cell_type": "code",
   "execution_count": 241,
   "id": "2d0baad7",
   "metadata": {},
   "outputs": [],
   "source": [
    "import pandas as pd\n",
    "from matplotlib import pyplot as plt\n",
    "from collections import Counter\n",
    "import numpy as np"
   ]
  },
  {
   "cell_type": "code",
   "execution_count": 48,
   "id": "48f332a6",
   "metadata": {},
   "outputs": [],
   "source": [
    "df = pd.read_csv('scored_corpus.csv')"
   ]
  },
  {
   "cell_type": "code",
   "execution_count": 49,
   "id": "7da126d4",
   "metadata": {},
   "outputs": [],
   "source": [
    "qid = 'int-1'\n",
    "temp_df = df.sort_values(by=[qid], ascending=False)[0:100]\n",
    "l = []\n",
    "for index, row in temp_df.iterrows():\n",
    "    l.append(row['id'])"
   ]
  },
  {
   "cell_type": "code",
   "execution_count": 230,
   "id": "04871501",
   "metadata": {},
   "outputs": [
    {
     "ename": "IndexError",
     "evalue": "list index out of range",
     "output_type": "error",
     "traceback": [
      "\u001b[0;31m---------------------------------------------------------------------------\u001b[0m",
      "\u001b[0;31mIndexError\u001b[0m                                Traceback (most recent call last)",
      "\u001b[0;32m<ipython-input-230-725cc59bff54>\u001b[0m in \u001b[0;36m<module>\u001b[0;34m\u001b[0m\n\u001b[0;32m----> 1\u001b[0;31m \u001b[0mi\u001b[0m \u001b[0;34m=\u001b[0m \u001b[0ml\u001b[0m\u001b[0;34m[\u001b[0m\u001b[0;36m100\u001b[0m\u001b[0;34m]\u001b[0m\u001b[0;34m\u001b[0m\u001b[0;34m\u001b[0m\u001b[0m\n\u001b[0m\u001b[1;32m      2\u001b[0m \u001b[0mprint\u001b[0m\u001b[0;34m(\u001b[0m\u001b[0mdf\u001b[0m\u001b[0;34m.\u001b[0m\u001b[0miloc\u001b[0m\u001b[0;34m[\u001b[0m\u001b[0mi\u001b[0m\u001b[0;34m,\u001b[0m\u001b[0;36m0\u001b[0m\u001b[0;34m]\u001b[0m\u001b[0;34m)\u001b[0m\u001b[0;34m\u001b[0m\u001b[0;34m\u001b[0m\u001b[0m\n\u001b[1;32m      3\u001b[0m \u001b[0mdf\u001b[0m\u001b[0;34m.\u001b[0m\u001b[0mat\u001b[0m\u001b[0;34m[\u001b[0m\u001b[0mi\u001b[0m\u001b[0;34m,\u001b[0m \u001b[0mqid\u001b[0m\u001b[0;34m]\u001b[0m \u001b[0;34m=\u001b[0m \u001b[0;36m1\u001b[0m\u001b[0;34m\u001b[0m\u001b[0;34m\u001b[0m\u001b[0m\n",
      "\u001b[0;31mIndexError\u001b[0m: list index out of range"
     ]
    }
   ],
   "source": [
    "i = l[100]\n",
    "print(df.iloc[i,0])\n",
    "df.at[i, qid] = 1"
   ]
  },
  {
   "cell_type": "code",
   "execution_count": 239,
   "id": "245ed73d",
   "metadata": {},
   "outputs": [
    {
     "data": {
      "text/plain": [
       "Counter({5.0: 1, 4.0: 3, 3.0: 6, 2.0: 6, 1.0: 28, 0.0: 56})"
      ]
     },
     "execution_count": 239,
     "metadata": {},
     "output_type": "execute_result"
    }
   ],
   "source": [
    "l = df.sort_values(by=[qid], ascending=False)[0:100]['int-1'].tolist()"
   ]
  },
  {
   "cell_type": "code",
   "execution_count": 248,
   "id": "51252e53",
   "metadata": {},
   "outputs": [
    {
     "data": {
      "image/png": "[encoded data removed]",
      "text/plain": [
       "<Figure size 432x288 with 1 Axes>"
      ]
     },
     "metadata": {
      "needs_background": "light"
     },
     "output_type": "display_data"
    }
   ],
   "source": [
    "l_str = []\n",
    "for e in l:\n",
    "    string = 'score' + str(e)\n",
    "    l_str.append(string)\n",
    "labels, values = zip(*Counter(l_str).items())\n",
    "\n",
    "indexes = np.arange(len(labels))\n",
    "width = 1\n",
    "\n",
    "plt.bar(indexes, values, width)\n",
    "plt.xticks(indexes + width * 0.5, labels)\n",
    "plt.xlabel('score')\n",
    "plt.ylabel('number of documents')\n",
    "plt.savefig('query1_distribution.jpg')"
   ]
  },
  {
   "cell_type": "code",
   "execution_count": 251,
   "id": "7486589f",
   "metadata": {},
   "outputs": [],
   "source": [
    "df.to_csv('scored_corpus_by_hand.csv', index=False)"
   ]
  },
  {
   "cell_type": "code",
   "execution_count": null,
   "id": "208b4087",
   "metadata": {},
   "outputs": [],
   "source": []
  }
 ],
 "metadata": {
  "kernelspec": {
   "display_name": "Python 3",
   "language": "python",
   "name": "python3"
  },
  "language_info": {
   "codemirror_mode": {
    "name": "ipython",
    "version": 3
   },
   "file_extension": ".py",
   "mimetype": "text/x-python",
   "name": "python",
   "nbconvert_exporter": "python",
   "pygments_lexer": "ipython3",
   "version": "3.8.8"
  }
 },
 "nbformat": 4,
 "nbformat_minor": 5
}
