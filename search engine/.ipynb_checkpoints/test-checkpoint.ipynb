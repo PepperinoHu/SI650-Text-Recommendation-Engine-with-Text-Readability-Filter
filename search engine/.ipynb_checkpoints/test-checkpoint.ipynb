{
 "cells": [
  {
   "cell_type": "code",
   "execution_count": 1,
   "id": "fda682e5",
   "metadata": {},
   "outputs": [],
   "source": [
    "import pandas as pd\n",
    "from matplotlib import pyplot as plt\n",
    "from collections import Counter\n",
    "import numpy as np"
   ]
  },
  {
   "cell_type": "code",
   "execution_count": 5,
   "id": "aa875ddc",
   "metadata": {},
   "outputs": [],
   "source": [
    "df = pd.read_csv('test.csv')\n",
    "scored_corpus = pd.read_csv('scored_corpus.csv')"
   ]
  },
  {
   "cell_type": "code",
   "execution_count": 7,
   "id": "361b2b52",
   "metadata": {},
   "outputs": [],
   "source": [
    "s = 0\n",
    "readability_correspond = 0\n",
    "n = 10\n",
    "for i in df['DocumentId']:\n",
    "    index = i.split('-')[1]\n",
    "    s += scored_corpus.loc[scored_corpus['id'] == int(index)]['int-1']"
   ]
  },
  {
   "cell_type": "code",
   "execution_count": null,
   "id": "d3f474a8",
   "metadata": {},
   "outputs": [],
   "source": []
  }
 ],
 "metadata": {
  "kernelspec": {
   "display_name": "Python 3",
   "language": "python",
   "name": "python3"
  },
  "language_info": {
   "codemirror_mode": {
    "name": "ipython",
    "version": 3
   },
   "file_extension": ".py",
   "mimetype": "text/x-python",
   "name": "python",
   "nbconvert_exporter": "python",
   "pygments_lexer": "ipython3",
   "version": "3.8.8"
  }
 },
 "nbformat": 4,
 "nbformat_minor": 5
}
